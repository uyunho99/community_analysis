{
 "cells": [
  {
   "cell_type": "markdown",
   "id": "1ae2017f",
   "metadata": {},
   "source": [
    "## Import packages"
   ]
  },
  {
   "cell_type": "code",
   "execution_count": null,
   "id": "a4811e15",
   "metadata": {},
   "outputs": [],
   "source": [
    "import time\n",
    "import pandas as pd\n",
    "from tqdm import tqdm\n",
    "\n",
    "from selenium import webdriver\n",
    "from selenium.webdriver.common.keys import Keys\n",
    "from selenium.webdriver.common.by import By\n",
    "from selenium.common.exceptions import NoSuchElementException\n",
    "from bs4 import BeautifulSoup\n",
    "from selenium import webdriver\n",
    "from selenium.webdriver.common.by import By\n",
    "from selenium.webdriver.chrome.service import Service\n",
    "from webdriver_manager.chrome import ChromeDriverManager"
   ]
  },
  {
   "cell_type": "markdown",
   "id": "b898b0f8",
   "metadata": {},
   "source": [
    "## Crawling"
   ]
  },
  {
   "cell_type": "code",
   "execution_count": null,
   "id": "65b8aa30",
   "metadata": {},
   "outputs": [],
   "source": [
    "url = \"https://careerly.co.kr/@synabreu?fa=search-result&fromArea=tab-profile\""
   ]
  },
  {
   "cell_type": "code",
   "execution_count": 7,
   "id": "1f90a8e0-7866-4a2e-9ce5-1ecbacd6fa9a",
   "metadata": {},
   "outputs": [],
   "source": [
    "# 크롬드라이버 실행\n",
    "driver = webdriver.Chrome()\n",
    "\n",
    "#크롬 드라이버에 url 주소 넣고 실행\n",
    "driver.get(url)\n",
    "\n",
    "# 페이지가 완전히 로딩되도록 3초동안 기다림\n",
    "time.sleep(2)\n",
    "\n",
    "# 페이지 스크롤을 위해 body 태그를 태그 이름으로 찾기\n",
    "actions = driver.find_element(By.CSS_SELECTOR, 'body')\n",
    "\n",
    "for _ in range(100): #페이지 스크롤 진행\n",
    "    actions.send_keys(Keys.END)"
   ]
  },
  {
   "cell_type": "code",
   "execution_count": 22,
   "id": "53c81747",
   "metadata": {},
   "outputs": [
    {
     "name": "stdout",
     "output_type": "stream",
     "text": [
      "1000\n"
     ]
    }
   ],
   "source": [
    "# 페이지 소스 가져오기\n",
    "links_selector = \"#__next > div.css-1yctryj-SkeletonTheme > div > div.tw-z-0.tw-fixed-container-grid > div.tw-pt-8.tw-col-span-8 > div > div > div > a\"\n",
    "\n",
    "# 링크 리스트 생성\n",
    "links = driver.find_elements(By.CSS_SELECTOR, links_selector)\n",
    "\n",
    "# 링크 리스트에서 링크만 추출\n",
    "link_f = [0 for i in range(len(links))]\n",
    "for i in range(len(links)):\n",
    "    link_f[i] = links[i].get_attribute(\"href\")\n",
    "print(len(link_f))"
   ]
  },
  {
   "cell_type": "code",
   "execution_count": 31,
   "id": "b98e5ed6-54b3-4185-bd1f-82225920da21",
   "metadata": {},
   "outputs": [],
   "source": [
    "link_f_2 = [0 for i in range(20)]\n",
    "\n",
    "links_selector = \"#__next > div.css-1yctryj-SkeletonTheme > div > div.tw-col-span-8.tw-py-8 > div > a\"\n",
    "links = driver.find_elements(By.CSS_SELECTOR, links_selector)\n",
    "for k in range(len(links)):\n",
    "    link_f_2[k] = links[k].get_attribute(\"href\")\n",
    "\n",
    "driver.find_element(By.XPATH,'//*[@id=\"__next\"]/div[2]/div/div[1]/div/div[2]/div[3]').click()"
   ]
  },
  {
   "cell_type": "code",
   "execution_count": 32,
   "id": "72b23b50",
   "metadata": {},
   "outputs": [],
   "source": [
    "link_f_3 = [0 for i in range(20)]\n",
    "\n",
    "k=0\n",
    "links_selector = \"#__next > div.css-1yctryj-SkeletonTheme > div > div.tw-col-span-8.tw-py-8 > div > a\"\n",
    "links = driver.find_elements(By.CSS_SELECTOR, links_selector)\n",
    "for k in range(len(links)):\n",
    "    link_f_3[k] = links[k].get_attribute(\"href\")\n",
    "\n",
    "driver.find_element(By.XPATH,'//*[@id=\"__next\"]/div[2]/div/div[1]/div/div[2]/div[4]').click()"
   ]
  },
  {
   "cell_type": "code",
   "execution_count": 33,
   "id": "d0399661",
   "metadata": {},
   "outputs": [],
   "source": [
    "link_f_4 = [0 for i in range(20)]\n",
    "\n",
    "k=0\n",
    "links_selector = \"#__next > div.css-1yctryj-SkeletonTheme > div > div.tw-col-span-8.tw-py-8 > div > a\"\n",
    "links = driver.find_elements(By.CSS_SELECTOR, links_selector)\n",
    "for k in range(len(links)):\n",
    "    link_f_4[k] = links[k].get_attribute(\"href\")\n",
    "\n",
    "driver.find_element(By.XPATH,'//*[@id=\"__next\"]/div[2]/div/div[1]/div/div[2]/div[5]').click()"
   ]
  },
  {
   "cell_type": "code",
   "execution_count": 34,
   "id": "3ae54d18",
   "metadata": {},
   "outputs": [],
   "source": [
    "link_f_5 = [0 for i in range(20)]\n",
    "\n",
    "k=0\n",
    "links_selector = \"#__next > div.css-1yctryj-SkeletonTheme > div > div.tw-col-span-8.tw-py-8 > div > a\"\n",
    "links = driver.find_elements(By.CSS_SELECTOR, links_selector)\n",
    "for k in range(len(links)):\n",
    "    link_f_5[k] = links[k].get_attribute(\"href\")"
   ]
  },
  {
   "cell_type": "code",
   "execution_count": 35,
   "id": "67da2b7b",
   "metadata": {
    "scrolled": false
   },
   "outputs": [],
   "source": [
    "link_f = link_f + link_f_2 +link_f_3 + link_f_4 + link_f_5"
   ]
  },
  {
   "cell_type": "code",
   "execution_count": 23,
   "id": "dae71eff",
   "metadata": {},
   "outputs": [],
   "source": [
    "products_info = []\n",
    "#__next > div.css-1yctryj-SkeletonTheme > div > div.tw-w-\\[1024px\\].tw-px-6.tw-grid.tw-grid-cols-12.tw-gap-12.tw-bg-slate-50.tw-mx-auto > div.tw-flex.tw-flex-col.tw-h-fit.tw-pb-28.tw-py-8.tw-col-span-8.tw-gap-5 > div.tw-bg-white.tw-border.tw-border-solid.tw-border-slate-300 > div.tw-mx-4.tw-mb-2.tw-border.tw-border-solid.tw-border-x-0.tw-border-t-0.tw-border-slate-200.tw-py-4 > p\n",
    "제목_s = \"#__next > div.css-1yctryj-SkeletonTheme > div > div.tw-w-\\[1024px\\].tw-px-6.tw-grid.tw-grid-cols-12.tw-gap-12.tw-bg-slate-50.tw-mx-auto > div.tw-flex.tw-flex-col.tw-h-fit.tw-pb-28.tw-py-8.tw-col-span-8.tw-gap-5 > div.tw-bg-white.tw-border.tw-border-solid.tw-border-slate-300 > div > h1\"\n",
    "#소속_s = \"#__next > div.css-1yctryj-SkeletonTheme > div > div > div.tw-flex.tw-flex-col.false.tw-py-8.tw-col-span-8.tw-gap-5 > div.tw-bg-white.tw-border.tw-border-solid.tw-border-slate-300 > div.tw-flex.tw-justify-between.tw-items-center.tw-gap-3.tw-p-4 > a > div.tw-flex-1 > p.tw-text-xs.tw-text-color-text-subtle.tw-line-clamp-1.tw-break-all\"\n",
    "글쓴이_s = \"#__next > div.css-1yctryj-SkeletonTheme > div > div.tw-w-\\[1024px\\].tw-px-6.tw-grid.tw-grid-cols-12.tw-gap-12.tw-bg-slate-50.tw-mx-auto > div.tw-flex.tw-flex-col.tw-h-fit.tw-pb-28.tw-py-8.tw-col-span-8.tw-gap-5 > div.tw-bg-white.tw-border.tw-border-solid.tw-border-slate-300 > div.tw-flex.tw-justify-between.tw-items-center.tw-gap-3.tw-p-4 > a > div.tw-flex-1\"\n",
    "글_s = \"#__next > div.css-1yctryj-SkeletonTheme > div > div.tw-w-\\[1024px\\].tw-px-6.tw-grid.tw-grid-cols-12.tw-gap-12.tw-bg-slate-50.tw-mx-auto > div.tw-flex.tw-flex-col.tw-h-fit.tw-pb-28.tw-py-8.tw-col-span-8.tw-gap-5 > div.tw-bg-white.tw-border.tw-border-solid.tw-border-slate-300 > div:nth-child(2)\"\n",
    "게시날짜_s = \"#__next > div.css-1yctryj-SkeletonTheme > div > div.tw-w-\\[1024px\\].tw-px-6.tw-grid.tw-grid-cols-12.tw-gap-12.tw-bg-slate-50.tw-mx-auto > div.tw-flex.tw-flex-col.tw-h-fit.tw-pb-28.tw-py-8.tw-col-span-8.tw-gap-5 > div.tw-bg-white.tw-border.tw-border-solid.tw-border-slate-300 > div.tw-mx-4.tw-mb-2.tw-border.tw-border-solid.tw-border-x-0.tw-border-t-0.tw-border-slate-200.tw-py-4 > p\"\n",
    "좋아요수_s = \"#__next > div.css-1yctryj-SkeletonTheme > div > div.tw-w-\\[1024px\\].tw-px-6.tw-grid.tw-grid-cols-12.tw-gap-12.tw-bg-slate-50.tw-mx-auto > div.tw-flex.tw-flex-col.tw-h-fit.tw-pb-28.tw-py-8.tw-col-span-8.tw-gap-5 > div.tw-bg-white.tw-border.tw-border-solid.tw-border-slate-300 > div:nth-child(5) > div > button:nth-child(1)\"\n",
    "공유수_s = \"#__next > div.css-1yctryj-SkeletonTheme > div > div.tw-w-\\[1024px\\].tw-px-6.tw-grid.tw-grid-cols-12.tw-gap-12.tw-bg-slate-50.tw-mx-auto > div.tw-flex.tw-flex-col.tw-h-fit.tw-pb-28.tw-py-8.tw-col-span-8.tw-gap-5 > div.tw-bg-white.tw-border.tw-border-solid.tw-border-slate-300 > div:nth-child(5) > div > button:nth-child(3)\"\n",
    "저장수_s = \"#__next > div.css-1yctryj-SkeletonTheme > div > div.tw-w-\\[1024px\\].tw-px-6.tw-grid.tw-grid-cols-12.tw-gap-12.tw-bg-slate-50.tw-mx-auto > div.tw-flex.tw-flex-col.tw-h-fit.tw-pb-28.tw-py-8.tw-col-span-8.tw-gap-5 > div.tw-bg-white.tw-border.tw-border-solid.tw-border-slate-300 > div:nth-child(5) > a > p > b:nth-child(1)\"\n",
    "조회수_s = \"#__next > div.css-1yctryj-SkeletonTheme > div > div.tw-w-\\[1024px\\].tw-px-6.tw-grid.tw-grid-cols-12.tw-gap-12.tw-bg-slate-50.tw-mx-auto > div.tw-flex.tw-flex-col.tw-h-fit.tw-pb-28.tw-py-8.tw-col-span-8.tw-gap-5 > div.tw-bg-white.tw-border.tw-border-solid.tw-border-slate-300 > div:nth-child(5) > a > p > b:nth-child(2)\"\n",
    "댓글수_s = \"#__next > div.css-1yctryj-SkeletonTheme > div > div.tw-w-\\[1024px\\].tw-px-6.tw-grid.tw-grid-cols-12.tw-gap-12.tw-bg-slate-50.tw-mx-auto > div.tw-flex.tw-flex-col.tw-h-fit.tw-pb-28.tw-py-8.tw-col-span-8.tw-gap-5 > div:nth-child(2) > h3\"\n",
    "관심수_s = \"#__next > div.css-1yctryj-SkeletonTheme > div > div.tw-w-\\[1024px\\].tw-px-6.tw-grid.tw-grid-cols-12.tw-gap-12.tw-bg-slate-50.tw-mx-auto > div.tw-flex.tw-flex-col.tw-h-fit.tw-pb-28.tw-py-8.tw-col-span-8.tw-gap-5 > div.tw-bg-white.tw-border.tw-border-solid.tw-border-slate-300 > div > a > p\""
   ]
  },
  {
   "cell_type": "code",
   "execution_count": 29,
   "id": "fc7a2142-f0be-4b2f-87f5-00998b12d8ba",
   "metadata": {},
   "outputs": [],
   "source": [
    "for url in link_f[0:10]:\n",
    "    driver.get(url)  \n",
    "    time.sleep(1)    \n",
    "    try: \n",
    "        제목 = driver.find_element(By.CSS_SELECTOR, 제목_s).text\n",
    "        글쓴이 = driver.find_element(By.CSS_SELECTOR, 글쓴이_s).text\n",
    "        글 = driver.find_element(By.CSS_SELECTOR, 글_s).text\n",
    "        게시날짜 = driver.find_element(By.CSS_SELECTOR, 게시날짜_s).text\n",
    "        좋아요수 = driver.find_element(By.CSS_SELECTOR, 좋아요수_s).text\n",
    "        공유수 = driver.find_element(By.CSS_SELECTOR, 공유수_s).text\n",
    "        저장수 = driver.find_element(By.CSS_SELECTOR, 저장수_s).text\n",
    "        조회수 = driver.find_element(By.CSS_SELECTOR, 조회수_s).text\n",
    "        댓글수 = driver.find_element(By.CSS_SELECTOR, 댓글수_s).text\n",
    "        products_info.append({\n",
    "            '제목': 제목,\n",
    "            '글쓴이': 글쓴이,\n",
    "            '글': 글,\n",
    "            '게시 날짜' : 게시날짜,\n",
    "            '좋아요 수' : 좋아요수,\n",
    "            '공유 수' : 공유수,\n",
    "            '저장 수' : 저장수,\n",
    "            '조회 수' : 조회수,\n",
    "            '댓글 수' : 댓글수\n",
    "        })\n",
    "    except:\n",
    "        pass\n"
   ]
  },
  {
   "cell_type": "code",
   "execution_count": 30,
   "id": "17516b15-d408-451f-9485-daf69fad2425",
   "metadata": {},
   "outputs": [],
   "source": [
    "# 데이터 프레임으로 변환\n",
    "df = pd.DataFrame(products_info)"
   ]
  },
  {
   "cell_type": "code",
   "execution_count": 31,
   "id": "7e5d4353-506c-4c4e-a23e-b1229d0e9563",
   "metadata": {},
   "outputs": [],
   "source": [
    "df.to_csv('/Users/gimminjin/Documents/민진/커리어리크롤링_2.csv', index=False, encoding='utf-8')"
   ]
  }
 ],
 "metadata": {
  "kernelspec": {
   "display_name": "Python 3 (ipykernel)",
   "language": "python",
   "name": "python3"
  },
  "language_info": {
   "codemirror_mode": {
    "name": "ipython",
    "version": 3
   },
   "file_extension": ".py",
   "mimetype": "text/x-python",
   "name": "python",
   "nbconvert_exporter": "python",
   "pygments_lexer": "ipython3",
   "version": "3.8.18"
  }
 },
 "nbformat": 4,
 "nbformat_minor": 5
}
